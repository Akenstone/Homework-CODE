{
 "cells": [
  {
   "cell_type": "code",
   "execution_count": 6,
   "metadata": {},
   "outputs": [
    {
     "name": "stdout",
     "output_type": "stream",
     "text": [
      "Hello world\n"
     ]
    }
   ],
   "source": [
    "print(\"Hello world\")"
   ]
  },
  {
   "cell_type": "markdown",
   "metadata": {},
   "source": [
    "#### $ NO.1 $"
   ]
  },
  {
   "cell_type": "code",
   "execution_count": 7,
   "metadata": {},
   "outputs": [
    {
     "name": "stdout",
     "output_type": "stream",
     "text": [
      "['apple', 'pear', 'orange', 'pineapple', 'mandarin']\n"
     ]
    }
   ],
   "source": [
    "fruit_list = [\"apple\",\"pear\",\"orange\",\"pineapple\",\"mandarin\"]\n",
    "print(fruit_list)"
   ]
  },
  {
   "cell_type": "markdown",
   "metadata": {},
   "source": [
    "#### $ NO.2 $"
   ]
  },
  {
   "cell_type": "code",
   "execution_count": 59,
   "metadata": {},
   "outputs": [
    {
     "name": "stdout",
     "output_type": "stream",
     "text": [
      "I found it!\n"
     ]
    }
   ],
   "source": [
    "for i in range(len(fruit_list)):    \n",
    "    if fruit_list[i] == \"apple\":\n",
    "        print(\"I found it!\")"
   ]
  },
  {
   "cell_type": "markdown",
   "metadata": {},
   "source": [
    "#### $ NO.3 $"
   ]
  },
  {
   "cell_type": "code",
   "execution_count": 11,
   "metadata": {},
   "outputs": [
    {
     "name": "stdout",
     "output_type": "stream",
     "text": [
      "['apple', 'pear', 'orange', 'pineapple', 'mandarin', 'banana', 'melon']\n"
     ]
    }
   ],
   "source": [
    "fruit_list.append(\"banana\")\n",
    "fruit_list.append(\"melon\")\n",
    "print(fruit_list)"
   ]
  },
  {
   "cell_type": "markdown",
   "metadata": {},
   "source": [
    "#### $ NO.4 $"
   ]
  },
  {
   "cell_type": "code",
   "execution_count": 62,
   "metadata": {},
   "outputs": [
    {
     "name": "stdout",
     "output_type": "stream",
     "text": [
      "apple has 5 letters\n",
      "pear has 4 letters\n",
      "orange has 6 letters\n",
      "pineapple has 9 letters\n",
      "mandarin has 8 letters\n",
      "banana has 6 letters\n",
      "melon has 5 letters\n"
     ]
    }
   ],
   "source": [
    "empty = []\n",
    "for j in range (len(fruit_list)):\n",
    "    empty.append(fruit_list[j])\n",
    "    print(fruit_list[j] + \" has \" + str(len(fruit_list[j])) + \" letters\")"
   ]
  },
  {
   "cell_type": "markdown",
   "metadata": {},
   "source": [
    "#### $ NO.5 $"
   ]
  },
  {
   "cell_type": "code",
   "execution_count": 7,
   "metadata": {},
   "outputs": [],
   "source": [
    "def half_squared (oldlist):\n",
    "    newlist = []\n",
    "    for t in range (len(oldlist)):\n",
    "        a = oldlist[t]*oldlist[t]/2\n",
    "        newlist.append(a)\n",
    "    return newlist"
   ]
  },
  {
   "cell_type": "code",
   "execution_count": 21,
   "metadata": {},
   "outputs": [
    {
     "name": "stdout",
     "output_type": "stream",
     "text": [
      "[4.5, 4.5]\n"
     ]
    },
    {
     "data": {
      "text/plain": [
       "True"
      ]
     },
     "execution_count": 21,
     "metadata": {},
     "output_type": "execute_result"
    }
   ],
   "source": [
    "testlist = half_squared([3,3])\n",
    "print(testlist)\n",
    "\n",
    "def check(thelist):\n",
    "    s = 0\n",
    "    for i in range (len(thelist)):\n",
    "        if (thelist[i] != 4.5):\n",
    "            s = 1\n",
    "    if s == 0 :\n",
    "        return True\n",
    "    else : \n",
    "        return False\n",
    "\n",
    "check(testlist)"
   ]
  },
  {
   "cell_type": "markdown",
   "metadata": {},
   "source": [
    "#### $ NO.6 $"
   ]
  },
  {
   "cell_type": "code",
   "execution_count": 17,
   "metadata": {},
   "outputs": [
    {
     "name": "stdout",
     "output_type": "stream",
     "text": [
      "error\n"
     ]
    }
   ],
   "source": [
    "b = int(input(\"Enter a score: \"))\n",
    "grade = \"\"\n",
    "if b >= 90 and b <= 100:\n",
    "    grade = \"A\"\n",
    "elif b > 60 and b < 90:\n",
    "    grade = \"B\"\n",
    "elif b <= 60 and b >= 0:\n",
    "    grade = \"C\"\n",
    "else :\n",
    "    grade = \"error\"\n",
    "print(grade)"
   ]
  },
  {
   "cell_type": "markdown",
   "metadata": {},
   "source": [
    "#### $ NO.7 $"
   ]
  },
  {
   "cell_type": "code",
   "execution_count": 29,
   "metadata": {},
   "outputs": [
    {
     "data": {
      "text/plain": [
       "(32, 12, 4)"
      ]
     },
     "execution_count": 29,
     "metadata": {},
     "output_type": "execute_result"
    }
   ],
   "source": [
    "def exchange (a,b):\n",
    "    a,b = b,a\n",
    "    return a,b\n",
    "exchange(10,20)\n",
    "\n",
    "def reSort (a,b,c):\n",
    "    if b > a :\n",
    "        a,b = exchange(a,b)\n",
    "    if c > b :\n",
    "        b,c = exchange(b,c)\n",
    "    if b > a :\n",
    "        a,b =exchange(a,b)\n",
    "    return a,b,c\n",
    "\n",
    "reSort (12,4,32)"
   ]
  },
  {
   "cell_type": "markdown",
   "metadata": {},
   "source": [
    "#### $ NO.8 $"
   ]
  },
  {
   "cell_type": "code",
   "execution_count": 5,
   "metadata": {},
   "outputs": [
    {
     "data": {
      "text/plain": [
       "[1, 2, 3, 4, 5, 6]"
      ]
     },
     "execution_count": 5,
     "metadata": {},
     "output_type": "execute_result"
    }
   ],
   "source": [
    "list1 = [1,2,3]\n",
    "list2 = [4,5,6]\n",
    "array = [list1,list2]\n",
    "def traverse(array):\n",
    "    tra_array = []\n",
    "    for i in range (len(array)):\n",
    "        for j in range (len(array[i])):\n",
    "            tra_array.append(array[i][j])\n",
    "    return tra_array\n",
    "\n",
    "traverse(array)"
   ]
  },
  {
   "cell_type": "markdown",
   "metadata": {},
   "source": [
    "#### $ NO.9 $"
   ]
  },
  {
   "cell_type": "code",
   "execution_count": 18,
   "metadata": {},
   "outputs": [
    {
     "data": {
      "text/plain": [
       "[1, 8, 17, 18, 26, 27]"
      ]
     },
     "execution_count": 18,
     "metadata": {},
     "output_type": "execute_result"
    }
   ],
   "source": [
    "def findnumber(n):\n",
    "    numlist = []\n",
    "    for number in range(1,n + 1):\n",
    "        a = int(number**3 / 1000000)\n",
    "        b = int(number**3%1000000 / 100000)\n",
    "        c = int(number**3%100000 / 10000)\n",
    "        d = int(number**3%10000 / 1000)\n",
    "        e = int(number**3%1000 / 100)\n",
    "        f = int(number**3%100 / 10)\n",
    "        g = int(number**3%10)\n",
    "        if number == a+b+c+d+e+f+g:\n",
    "            numlist.append(number)\n",
    "    return numlist\n",
    "findnumber(100)"
   ]
  },
  {
   "cell_type": "markdown",
   "metadata": {},
   "source": [
    "#### $ NO.10 $"
   ]
  },
  {
   "cell_type": "code",
   "execution_count": 32,
   "metadata": {},
   "outputs": [
    {
     "name": "stdout",
     "output_type": "stream",
     "text": [
      "10 2\n",
      "2 10\n"
     ]
    }
   ],
   "source": [
    "import random \n",
    "def ran():\n",
    "    x = random.randint(1,10)\n",
    "    y = random.randint(1,10)\n",
    "    print (x,y)\n",
    "    x,y = y,x\n",
    "    print(x,y)\n",
    "ran()"
   ]
  },
  {
   "cell_type": "markdown",
   "metadata": {},
   "source": [
    "#### $ NO.11 $"
   ]
  },
  {
   "cell_type": "code",
   "execution_count": 67,
   "metadata": {},
   "outputs": [
    {
     "name": "stdout",
     "output_type": "stream",
     "text": [
      "   *\n",
      "  ***\n",
      " *****\n",
      "*******\n",
      " *****\n",
      "  ***\n",
      "   *\n"
     ]
    }
   ],
   "source": [
    "width = 4\n",
    "for i in range(width):\n",
    "    if i != 0:\n",
    "        for j in range(width - i):\n",
    "            print (\" \",end = \"\")\n",
    "        for k in range(2 * i - 1):\n",
    "            print (\"*\",end = \"\")\n",
    "        print (\"\")\n",
    "\n",
    "for i in range(width):\n",
    "    for j in range(i):\n",
    "        print (\" \",end = \"\")\n",
    "    for k in range(2 * (width - i) - 1):\n",
    "        print (\"*\",end = \"\")\n",
    "    print (\"\")"
   ]
  },
  {
   "cell_type": "markdown",
   "metadata": {},
   "source": [
    "#### $ NO.12 $"
   ]
  },
  {
   "cell_type": "code",
   "execution_count": 52,
   "metadata": {},
   "outputs": [
    {
     "name": "stdout",
     "output_type": "stream",
     "text": [
      "123456\n",
      "234561\n",
      "345612\n",
      "456123\n",
      "561234\n",
      "612345\n"
     ]
    }
   ],
   "source": [
    "for i in range(1,7):\n",
    "    for j in range(i,7):\n",
    "        print(j,end=\"\")\n",
    "    for t in range (1,i):\n",
    "        print(t,end=\"\")\n",
    "    print()"
   ]
  },
  {
   "cell_type": "markdown",
   "metadata": {},
   "source": [
    "#### $ NO.13 $"
   ]
  },
  {
   "cell_type": "code",
   "execution_count": 58,
   "metadata": {},
   "outputs": [
    {
     "name": "stdout",
     "output_type": "stream",
     "text": [
      "Charles\n",
      "Martina\n",
      "Michael\n"
     ]
    }
   ],
   "source": [
    "players = ['charles','martina','michael','florence','eli']\n",
    "newlist = players[:3]\n",
    "for i in range(len(newlist)):\n",
    "    print(newlist[i].title())"
   ]
  }
 ],
 "metadata": {
  "kernelspec": {
   "display_name": "Python 3",
   "language": "python",
   "name": "python3"
  },
  "language_info": {
   "codemirror_mode": {
    "name": "ipython",
    "version": 3
   },
   "file_extension": ".py",
   "mimetype": "text/x-python",
   "name": "python",
   "nbconvert_exporter": "python",
   "pygments_lexer": "ipython3",
   "version": "3.6.5"
  }
 },
 "nbformat": 4,
 "nbformat_minor": 2
}
