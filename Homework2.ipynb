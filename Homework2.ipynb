{
 "cells": [
  {
   "cell_type": "markdown",
   "metadata": {},
   "source": [
    "#### $ Theory $"
   ]
  },
  {
   "cell_type": "markdown",
   "metadata": {},
   "source": [
    "#### $ NO.1 $"
   ]
  },
  {
   "cell_type": "code",
   "execution_count": null,
   "metadata": {},
   "outputs": [],
   "source": [
    "algorithm: see the movie\n",
    "Scene 1: Buy ticket\n",
    "    if time is available\n",
    "        if time has available tickets \n",
    "            buy the ticket\n",
    "        else check next available timing\n",
    "Scene 2: Arrive the theater\n",
    "    if hunger is True or thirst is True\n",
    "        buy the snacks\n",
    "    else Go to the theater directly"
   ]
  },
  {
   "cell_type": "markdown",
   "metadata": {},
   "source": [
    "#### $ NO.2$"
   ]
  },
  {
   "cell_type": "code",
   "execution_count": null,
   "metadata": {},
   "outputs": [],
   "source": [
    "1. The farmer takes the duck across the river. \n",
    "Then he goes back alone.\n",
    "(side1:wolf corn farmer; side2:duck)\n",
    "2. The farmer takes the wolf across the river.\n",
    "Then he goes back together with the duck.\n",
    "(side1:duck corn farmer; side2:wolf)\n",
    "3. The farmer takes the corn across the river.\n",
    "Then he goes back alone.\n",
    "(side1:farmer duck; side2:wolf corn)\n",
    "4. The farmer takes the duck across the river.\n",
    "Then he finished the work.\n",
    "(side1:(empty); side2:wolf corn farmer duck)"
   ]
  },
  {
   "cell_type": "markdown",
   "metadata": {},
   "source": [
    "#### $ NO.3 $"
   ]
  },
  {
   "cell_type": "raw",
   "metadata": {},
   "source": [
    "Intelligent agents are supposed to maximize their performance measure. Achieving this is sometimes simplified if the agent can adopt a goal and aim at satisfying.\n",
    "By setting a goal, courses of action that don't reach the goal can be rejected without further consideration and the agent's decision problem is greatly simplified.\n",
    "Goals help organize behavior by limiting the objectives that the agent is trying to achieve and hence the actions it needs to consider."
   ]
  },
  {
   "cell_type": "markdown",
   "metadata": {},
   "source": [
    "#### $ NO.4$"
   ]
  },
  {
   "cell_type": "raw",
   "metadata": {},
   "source": [
    "BFS: A B C D E F H G I K\n",
    "DFS: A B C E F D H I K G"
   ]
  },
  {
   "cell_type": "markdown",
   "metadata": {},
   "source": [
    "#### $ NO.5$"
   ]
  },
  {
   "cell_type": "raw",
   "metadata": {},
   "source": [
    "a. parent[child]\n",
    "1:[2,3]; 2:[4,5]; 3:[6,7]; 4:[8,9]; 5:[10,11]; \n",
    "6:[12,13]; 7:[14,15];\n",
    "b. BFS: 1 2 3 4 5 6 7 8 9 10 11\n",
    "DFS: 1 2 4 8 9 5 10 11\n",
    "IDS: 1; 1 2 3; 1 2 4 5 3 6 7; 1 2 4 8 9 5 10 11\n",
    "c. 11 5 2 1 Bidirectional search is useful in this case since the formula is fixed and the backward search is of great efficiency. Branch factors are 2 in the forward direction and 1 in the reverse direction.\n",
    "d. Yes. We can start our search from goal and use single reverse successor to find root(1).\n",
    "e. Yes. We can simply use division factor. Starting from the goal, we divide the number by 2 each time. If the result is not an integer then use the floor function to modify the number to the largest integer smaller than the result. Then we push each result to a stack so we can output the backward sequence later."
   ]
  },
  {
   "cell_type": "markdown",
   "metadata": {},
   "source": [
    "#### $ Programming$"
   ]
  },
  {
   "cell_type": "markdown",
   "metadata": {},
   "source": [
    "#### $ NO.1$"
   ]
  },
  {
   "cell_type": "code",
   "execution_count": 9,
   "metadata": {},
   "outputs": [
    {
     "name": "stdout",
     "output_type": "stream",
     "text": [
      "There are 12 rabbits and 23 chickens.\n"
     ]
    }
   ],
   "source": [
    "## This program is design to calculate every circumatances based on the numbers you input.\n",
    "a = int(input(\"Enter the number of heads: \"))\n",
    "b = int(input(\"Enter the number of legs: \"))\n",
    "c = (b - 2*a)/2\n",
    "d = a - c\n",
    "print(\"There are \"+str(int(c))+\" rabbits and \"+str(int(d))+\" chickens.\")"
   ]
  },
  {
   "cell_type": "markdown",
   "metadata": {},
   "source": [
    "#### $ NO.2$"
   ]
  },
  {
   "cell_type": "code",
   "execution_count": 31,
   "metadata": {},
   "outputs": [
    {
     "name": "stdout",
     "output_type": "stream",
     "text": [
      "We found it! Thom is a mango seller.\n",
      "We found it! Thom is a mango seller.\n"
     ]
    }
   ],
   "source": [
    "socialnet = {}\n",
    "##This algorithm implements dfs search to make search faster and less costly\n",
    "## However the proper methods to solve this kind of problem is bfs\n",
    "## the rundfs & runbfs is the defference\n",
    "\n",
    "def init():\n",
    "    \n",
    "    socialnet[\"you\"] = [\"Alice\", \"Bob\", \"Claire\"]\n",
    "    socialnet[\"Bob\"] = [\"Anuj\", \"Peggy\"]\n",
    "    socialnet[\"Alice\"] = [\"Peggy\"]\n",
    "    socialnet[\"Claire\"] = [\"Thom\", \"Jonny\"]\n",
    "    socialnet[\"Anuj\"] = []\n",
    "    socialnet[\"Peggy\"] = []\n",
    "    socialnet[\"Thom\"] = []\n",
    "    socialnet[\"Jonny\"] = []\n",
    "\n",
    "def rundfs():\n",
    "    \n",
    "    mark = []\n",
    "    queue = []\n",
    "    queue += socialnet[\"you\"]\n",
    "    \n",
    "    while queue:\n",
    "        pop = queue.pop()\n",
    "        \n",
    "        if not pop in mark:\n",
    "            if pop[-1] == 'm':\n",
    "                print(\"We found it! \"+ pop +\" is a mango seller.\")\n",
    "                return\n",
    "            else:\n",
    "                queue += socialnet[pop]\n",
    "                mark.append(pop)\n",
    "    print(\"There is no mango seller.\")\n",
    "\n",
    "\n",
    "from collections import deque\n",
    "\n",
    "def runbfs():\n",
    "    \n",
    "    mark = []\n",
    "    queue = deque()\n",
    "    queue += socialnet[\"you\"]\n",
    "    \n",
    "    while queue:\n",
    "        pop = queue.popleft()\n",
    "        \n",
    "        if not pop in mark:\n",
    "            if pop[-1] == 'm':\n",
    "                print(\"We found it! \"+ pop +\" is a mango seller.\")\n",
    "                return\n",
    "            else:\n",
    "                queue += socialnet[pop]\n",
    "                mark.append(pop)\n",
    "    print(\"There is no mango seller.\")\n",
    "\n",
    "init()\n",
    "rundfs()\n",
    "init()\n",
    "runbfs()"
   ]
  },
  {
   "cell_type": "markdown",
   "metadata": {},
   "source": [
    "#### $ NO.3$"
   ]
  },
  {
   "cell_type": "code",
   "execution_count": 7,
   "metadata": {},
   "outputs": [
    {
     "name": "stdout",
     "output_type": "stream",
     "text": [
      "LanguageGuesser.java\n",
      "LuckyNumbers.java\n",
      "QuesB1.java\n",
      "Tokenizer.java\n",
      "BarChartExample.java\n",
      "ScrapingExample.java\n",
      "ScrapingExample2.java\n",
      "ScrapingExample3.java\n",
      "BasicGUI.java\n",
      "test.java\n",
      "BasicJDBC.java\n",
      "Film.java\n",
      "Film2.java\n",
      "TableViewExample.java\n",
      "Film3.java\n",
      "TableViewExample2.java\n",
      "TableViewExample3.java\n",
      "QuadraticEquation.java\n",
      "Exercise1.java\n",
      "Exercise2.java\n",
      "MyDate.java\n",
      "Circle2D.java\n",
      "Exercise3.java\n",
      "TV.java\n",
      "TVTest.java\n",
      "Rectangle.java\n",
      "RectangleTest.java\n",
      "Addition.java\n",
      "LocalAndInstance.java\n",
      "Problem4.java\n",
      "Problem3.java\n",
      "Problem2.java\n",
      "Problem1.java\n",
      "RollDice.java\n",
      "Enumeration.java\n",
      "TriangleTest.java\n",
      "Triangle.java\n",
      "Circle.java\n",
      "Problem1.java\n",
      "StudentTest.java\n",
      "CircleTest.java\n",
      "Student.java\n",
      "Problem5.java\n",
      "Problem4.java\n",
      "Problem3.java\n",
      "Problem2.java\n",
      "Problem1.java\n",
      "Problem6.java\n",
      "Problem5.java\n",
      "Problem4.java\n",
      "Problem3.java\n",
      "Problem2.java\n",
      "Problem1.java\n",
      "Problem6.java\n",
      "Problem5.java\n",
      "Problem2.java\n",
      "Problem1.java\n",
      "StudentManager.java\n",
      "Student.java\n",
      "MyLinkedList.java\n",
      "KMP.java\n",
      "Template.java\n"
     ]
    }
   ],
   "source": [
    "import os\n",
    " \n",
    "def dfs_findfile(path):\n",
    "    \n",
    "    stack = []\n",
    "    stack.append(path);\n",
    "\n",
    "    while len(stack) > 0:\n",
    "        tmp = stack.pop()\n",
    "        temp = os.listdir(tmp)\n",
    "        \n",
    "        for filename in temp:\n",
    "            filepath= os.path.join(tmp, filename)\n",
    "            if(os.path.isdir(filepath)):\n",
    "                stack.append(filepath)\n",
    "            else:\n",
    "                if(str(filepath).endswith(\".java\")):\n",
    "                    print(filename) \n",
    "\n",
    "\n",
    "\n",
    "dfs_findfile('Downloads/')\n"
   ]
  },
  {
   "cell_type": "markdown",
   "metadata": {},
   "source": [
    "#### $ NO.4$"
   ]
  },
  {
   "cell_type": "code",
   "execution_count": 32,
   "metadata": {},
   "outputs": [
    {
     "name": "stdout",
     "output_type": "stream",
     "text": [
      "BarChartExample.java\n",
      "ScrapingExample.java\n",
      "ScrapingExample2.java\n",
      "ScrapingExample3.java\n",
      "BasicGUI.java\n",
      "test.java\n",
      "BasicJDBC.java\n",
      "LanguageGuesser.java\n",
      "LuckyNumbers.java\n",
      "QuesB1.java\n",
      "Tokenizer.java\n",
      "Film.java\n",
      "Film2.java\n",
      "TableViewExample.java\n",
      "Film3.java\n",
      "TableViewExample2.java\n",
      "TableViewExample3.java\n",
      "MyLinkedList.java\n",
      "KMP.java\n",
      "Template.java\n",
      "Problem5.java\n",
      "Problem2.java\n",
      "Problem1.java\n",
      "StudentManager.java\n",
      "Student.java\n",
      "Problem5.java\n",
      "Problem4.java\n",
      "Problem3.java\n",
      "Problem2.java\n",
      "Problem1.java\n",
      "Problem6.java\n",
      "Problem5.java\n",
      "Problem4.java\n",
      "Problem3.java\n",
      "Problem2.java\n",
      "Problem1.java\n",
      "Problem6.java\n",
      "TriangleTest.java\n",
      "Triangle.java\n",
      "Circle.java\n",
      "Problem1.java\n",
      "StudentTest.java\n",
      "CircleTest.java\n",
      "Student.java\n",
      "Addition.java\n",
      "LocalAndInstance.java\n",
      "Problem4.java\n",
      "Problem3.java\n",
      "Problem2.java\n",
      "Problem1.java\n",
      "RollDice.java\n",
      "Enumeration.java\n",
      "TV.java\n",
      "TVTest.java\n",
      "Rectangle.java\n",
      "RectangleTest.java\n",
      "QuadraticEquation.java\n",
      "Exercise1.java\n",
      "Exercise2.java\n",
      "MyDate.java\n",
      "Circle2D.java\n",
      "Exercise3.java\n"
     ]
    }
   ],
   "source": [
    "import os\n",
    "from collections import deque\n",
    " \n",
    "def bfs_findfile(path):\n",
    "    \n",
    "    queue = deque()\n",
    "    queue.append(path)\n",
    "\n",
    "    while len(queue) > 0:\n",
    "        tmp = queue.popleft()\n",
    "        temp = os.listdir(tmp)\n",
    "        \n",
    "        for filename in temp:\n",
    "            filepath= os.path.join(tmp, filename)\n",
    "            if(os.path.isdir(filepath)):\n",
    "                queue.append(filepath)\n",
    "            else:\n",
    "                if(str(filepath).endswith(\".java\")):\n",
    "                    print(filename) \n",
    "\n",
    "\n",
    "##This program is designed to check files in certain place\n",
    "##take Downloads as example\n",
    "## This code takes some references on the internet\n",
    "bfs_findfile('Downloads/')"
   ]
  },
  {
   "cell_type": "markdown",
   "metadata": {},
   "source": [
    "#### $ NO.5$"
   ]
  },
  {
   "cell_type": "code",
   "execution_count": 33,
   "metadata": {},
   "outputs": [
    {
     "name": "stdout",
     "output_type": "stream",
     "text": [
      "53\n"
     ]
    }
   ],
   "source": [
    "import math\n",
    "\n",
    "goal=85\n",
    "state=[-1]*(goal+1)\n",
    "state[2]=0\n",
    "\n",
    "for k in range(2,int(goal/2+1)):\n",
    "    if state[k]<0:\n",
    "        continue\n",
    "    for pos, cost in[(k*2,k),(k*2+1,math.floor(k/2)),(k*2+2,k+2)]:\n",
    "        if state[pos]==-1 or state[pos]>state[k]+cost:\n",
    "            state[pos]=state[k]+cost\n",
    "        if pos>goal:\n",
    "            continue \n",
    "\n",
    "print(state[goal])"
   ]
  }
 ],
 "metadata": {
  "kernelspec": {
   "display_name": "Python 3",
   "language": "python",
   "name": "python3"
  },
  "language_info": {
   "codemirror_mode": {
    "name": "ipython",
    "version": 3
   },
   "file_extension": ".py",
   "mimetype": "text/x-python",
   "name": "python",
   "nbconvert_exporter": "python",
   "pygments_lexer": "ipython3",
   "version": "3.6.5"
  }
 },
 "nbformat": 4,
 "nbformat_minor": 2
}
