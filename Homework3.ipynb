{
 "cells": [
  {
   "cell_type": "markdown",
   "metadata": {},
   "source": [
    "#### $ Theory $"
   ]
  },
  {
   "cell_type": "markdown",
   "metadata": {},
   "source": [
    "#### $ NO.1 $"
   ]
  },
  {
   "cell_type": "markdown",
   "metadata": {},
   "source": [
    "a. True. The second player will play optimally, and so is perfectly predictable up tp ties. Knowing which of two equally good moves the opponent will make does not change the value of the game to the first player.\n",
    "b. False. In a partially observable game, knowing the second player's move tells the first player additional information about the game state that would otherwise be available only to the second player.\n",
    "c. False. Background is a game of chance, and the opponent may consistnetly roll much better dice. The correct statement is that the expected winnings are optimal.\n"
   ]
  },
  {
   "cell_type": "markdown",
   "metadata": {},
   "source": [
    "#### $ NO.2 $"
   ]
  },
  {
   "cell_type": "markdown",
   "metadata": {},
   "source": [
    "a. constraint: A constraint is a restriction on the possible values of two or more variables.\n",
    "\n",
    "b. backtracking search: Backrtracking search is a kind of depth-first search. For a certain search tree, the main difference is that backtracking method is not the solution process. This complete tree structure is preserved, while the depth-first search records the complete search tree.\n",
    "\n",
    "c. arc consistency: A directed arc from variable A to variable B in a CSP is arc consistent if, for every value in the current domain of A, there is some consistent value of B.\n",
    "\n",
    "d. backjumping: Backjumping is a way of making backtracking search more efficient, by jumping back more than one level when a dead end is reached.\n",
    "\n",
    "e. Min-conflicts is a heuristic for use with local search on CSP problems. The heuristic says that, when given a variable to modify, choose the value that conflicts with the fewest number of other variables.\n",
    "\n",
    "f. cycle cutset: A cycle cutset is a set of variables which when removed from the constraint graph make it acyclic. When the variables of a cycle cutset are instantiated the remainder of the CSP can be solved in linear time."
   ]
  },
  {
   "cell_type": "markdown",
   "metadata": {},
   "source": [
    "#### $ NO.3 $"
   ]
  },
  {
   "cell_type": "markdown",
   "metadata": {},
   "source": [
    "The most constrained variable makes sense because it chooses a variable that is likely to cause a failure, and it is more efficient to fail as early as possible, thereby pruning large parts of the search space. The least constraining value heuristic makes sense because it allows the most chances for future assignments to avoid conflict."
   ]
  },
  {
   "cell_type": "markdown",
   "metadata": {},
   "source": [
    "#### $ NO.4 $"
   ]
  },
  {
   "cell_type": "markdown",
   "metadata": {},
   "source": [
    "This procedure will give incorrect results. Methematically, the procedure amounts to assuming that averaging commutes with min and max, which it does not. Intuitively, the choices made by each player in the deterministic trees are based on full knowledge of future dice rolls, and bear no necessary relationship to the moves made without such knowledge."
   ]
  },
  {
   "cell_type": "markdown",
   "metadata": {},
   "source": [
    "#### $ NO.5$"
   ]
  },
  {
   "cell_type": "markdown",
   "metadata": {},
   "source": [
    "If A selects the first plate, B will give (1,20) to A. A will leave with 20.\n",
    "If A selects the second plate, B will give (5,10) to A. A will leave with 10.\n",
    "If A selects the third plate, B will give (1,5) to A. A will leave with 5.\n",
    "So A needs to select the first plate."
   ]
  },
  {
   "cell_type": "markdown",
   "metadata": {},
   "source": [
    "#### $ Programming $"
   ]
  },
  {
   "cell_type": "markdown",
   "metadata": {},
   "source": [
    "#### $ NO.1 $"
   ]
  },
  {
   "cell_type": "code",
   "execution_count": 2,
   "metadata": {},
   "outputs": [
    {
     "name": "stdout",
     "output_type": "stream",
     "text": [
      "This integer is greater than 0 but smaller than 2\n",
      "Yes, you are right!\n"
     ]
    }
   ],
   "source": [
    "import random \n",
    "\n",
    "temp = random.randint(1,10)\n",
    "print(\"This integer is greater than \"+ str(temp-1) + \" but smaller than \" + str(temp+1))\n",
    "\n",
    "while True:\n",
    "    \n",
    "    guess = int(input(\"Enter a score: \"))\n",
    "    if guess == temp:\n",
    "        print(\"Yes, you are right!\")\n",
    "        break\n",
    "    else:\n",
    "        print(\"No, you are wrong!\")\n",
    "        continue"
   ]
  },
  {
   "cell_type": "markdown",
   "metadata": {},
   "source": [
    "#### $ NO.2 $"
   ]
  },
  {
   "cell_type": "code",
   "execution_count": 5,
   "metadata": {},
   "outputs": [
    {
     "name": "stdout",
     "output_type": "stream",
     "text": [
      "709\n",
      "['error', 'error', 'error']\n",
      "You have 9 times left.\n",
      "['Only the number is correct', 'Only the number is correct', 'Only the number is correct']\n",
      "You have 8 times left.\n",
      "['Absolutely right!', 'Absolutely right!', 'Absolutely right!']\n",
      "You are right!\n"
     ]
    }
   ],
   "source": [
    "import random\n",
    "\n",
    "temp = random.randint(100, 999)\n",
    "\n",
    "a = int(temp / 100)\n",
    "b = int(temp % 100 / 10)\n",
    "c = int(temp % 10)\n",
    "print(temp)\n",
    "\n",
    "\n",
    "def check(t, an, bn, cn):\n",
    "    if t == an:\n",
    "        state.append('Absolutely right!')\n",
    "    elif t == bn or t == cn:\n",
    "        state.append('Only the number is correct')\n",
    "    else:\n",
    "        state.append('error')\n",
    "\n",
    "\n",
    "n = 10\n",
    "\n",
    "while True:\n",
    "\n",
    "    guess = int(input(\"Please input a three-digit number: \"))\n",
    "    an = int(guess / 100)\n",
    "    bn = int(guess % 100 / 10)\n",
    "    cn = int(guess % 10)\n",
    "    state = []\n",
    "\n",
    "    check(an, a, b, c)\n",
    "    check(bn, b, c, a)\n",
    "    check(cn, c, b, a)\n",
    "\n",
    "    print(state)\n",
    "\n",
    "    if state == ['Absolutely right!', 'Absolutely right!', 'Absolutely right!']:\n",
    "        print(\"You are right!\")\n",
    "        break\n",
    "\n",
    "    n = n - 1\n",
    "    \n",
    "    if n == 0:\n",
    "        print(\"Game over!\")\n",
    "        break\n",
    "    \n",
    "    print(\"You have \" + str(n) + \" times left.\")\n"
   ]
  },
  {
   "cell_type": "markdown",
   "metadata": {},
   "source": [
    "#### $ NO.3$"
   ]
  },
  {
   "cell_type": "code",
   "execution_count": 2,
   "metadata": {},
   "outputs": [],
   "source": [
    "from tkinter import *           \n",
    "root = Tk()                     \n",
    "\n",
    "li     = ['C','python','php','html','SQL','java']\n",
    "movie  = ['CSS','jQuery','Bootstrap']\n",
    "listb  = Listbox(root)          \n",
    "listb2 = Listbox(root)\n",
    "\n",
    "for item in li:                 \n",
    "    listb.insert(0,item)\n",
    "for item in movie:             \n",
    "    listb2.insert(0,item)\n",
    " \n",
    " \n",
    "listb.pack()                   \n",
    "listb2.pack()\n",
    "\n",
    "root.mainloop()                 "
   ]
  },
  {
   "cell_type": "markdown",
   "metadata": {},
   "source": [
    "#### $ NO.4 $"
   ]
  },
  {
   "cell_type": "code",
   "execution_count": 7,
   "metadata": {},
   "outputs": [],
   "source": [
    "import tkinter\n",
    "\n",
    "root = tkinter.Tk()\n",
    "root.minsize(280, 500)\n",
    "root.title('Calculator')\n",
    "\n",
    "result = tkinter.StringVar()\n",
    "result.set(0)\n",
    "result2 = tkinter.StringVar()\n",
    "result2.set('')\n",
    "\n",
    "label = tkinter.Label(root, bg='#4F4F4F', bd='9', fg='#828282', anchor='se', textvariable=result2)\n",
    "label.place(width=280, height=170)\n",
    "label2 = tkinter.Label(root, bg='#4F4F4F', bd='9', fg='black', anchor='se', textvariable=result)\n",
    "label2.place(y=170, width=280, height=60)\n",
    "\n",
    "btn1 = tkinter.Button(root, text='1', fg=('#4F4F4F'), bd=0.5, command=lambda: pressNum('1'))\n",
    "btn1.place(x=0, y=395, width=70, height=55)\n",
    "btn2 = tkinter.Button(root, text='2', fg=('#4F4F4F'), bd=0.5, command=lambda: pressNum('2'))\n",
    "btn2.place(x=70, y=395, width=70, height=55)\n",
    "btn3 = tkinter.Button(root, text='3', fg=('#4F4F4F'), bd=0.5, command=lambda: pressNum('3'))\n",
    "btn3.place(x=140, y=395, width=70, height=55)\n",
    "btn4 = tkinter.Button(root, text='4', fg=('#4F4F4F'), bd=0.5, command=lambda: pressNum('4'))\n",
    "btn4.place(x=0, y=340, width=70, height=55)\n",
    "btn5 = tkinter.Button(root, text='5', fg=('#4F4F4F'), bd=0.5, command=lambda: pressNum('5'))\n",
    "btn5.place(x=70, y=340, width=70, height=55)\n",
    "btn6 = tkinter.Button(root, text='6', fg=('#4F4F4F'), bd=0.5, command=lambda: pressNum('6'))\n",
    "btn6.place(x=140, y=340, width=70, height=55)\n",
    "btn7 = tkinter.Button(root, text='7', fg=('#4F4F4F'), bd=0.5, command=lambda: pressNum('7'))\n",
    "btn7.place(x=0, y=285, width=70, height=55)\n",
    "btn8 = tkinter.Button(root, text='8', fg=('#4F4F4F'), bd=0.5, command=lambda: pressNum('8'))\n",
    "btn8.place(x=70, y=285, width=70, height=55)\n",
    "btn9 = tkinter.Button(root, text='9', fg=('#4F4F4F'), bd=0.5, command=lambda: pressNum('9'))\n",
    "btn9.place(x=140, y=285, width=70, height=55)\n",
    "btn0 = tkinter.Button(root, text='0', fg=('#4F4F4F'), bd=0.5, command=lambda: pressNum('0'))\n",
    "btn0.place(x=70, y=450, width=70, height=55)\n",
    "\n",
    "\n",
    "btnac = tkinter.Button(root, text='AC', bd=0.5, fg='orange', command=lambda: pressCompute('AC'))\n",
    "btnac.place(x=0, y=230, width=70, height=55)\n",
    "btnback = tkinter.Button(root, text='←', fg='#4F4F4F', bd=0.5, command=lambda: pressCompute('b'))\n",
    "btnback.place(x=70, y=230, width=70, height=55)\n",
    "btndivi = tkinter.Button(root, text='÷', fg='#4F4F4F', bd=0.5, command=lambda: pressCompute('/'))\n",
    "btndivi.place(x=140, y=230, width=70, height=55)\n",
    "btnmul = tkinter.Button(root, text='×', fg=\"#4F4F4F\", bd=0.5, command=lambda: pressCompute('*'))\n",
    "btnmul.place(x=210, y=230, width=70, height=55)\n",
    "btnsub = tkinter.Button(root, text='-', fg=('#4F4F4F'), bd=0.5, command=lambda: pressCompute('-'))\n",
    "btnsub.place(x=210, y=285, width=70, height=55)\n",
    "btnadd = tkinter.Button(root, text='+', fg=('#4F4F4F'), bd=0.5, command=lambda: pressCompute('+'))\n",
    "btnadd.place(x=210, y=340, width=70, height=55)\n",
    "btnequ = tkinter.Button(root, text='=', bg='orange', fg=('#4F4F4F'), bd=0.5, command=lambda: pressEqual())\n",
    "btnequ.place(x=210, y=395, width=70, height=110)\n",
    "btnper = tkinter.Button(root, text='%', fg=('#4F4F4F'), bd=0.5, command=lambda: pressCompute('%'))\n",
    "btnper.place(x=0, y=450, width=70, height=55)\n",
    "btnpoint = tkinter.Button(root, text='.', fg=('#4F4F4F'), bd=0.5, command=lambda: pressCompute('.'))\n",
    "btnpoint.place(x=140, y=450, width=70, height=55)\n",
    "\n",
    "lists = []\n",
    "isPressSign = False\n",
    "isPressNum = False\n",
    "\n",
    "\n",
    "def pressNum(num):\n",
    "    global lists\n",
    "    global isPressSign\n",
    "    if isPressSign == False:\n",
    "        pass\n",
    "    else:\n",
    "        result.set(0)\n",
    "        isPressSign = False\n",
    "\n",
    "    oldnum = result.get()\n",
    "    if oldnum == '0':\n",
    "        result.set(num)\n",
    "    else:\n",
    "        newnum = oldnum + num\n",
    "        result.set(newnum)\n",
    "\n",
    "\n",
    "def pressCompute(sign):\n",
    "    global lists\n",
    "    global isPressSign\n",
    "    num = result.get()\n",
    "    lists.append(num)\n",
    "    lists.append(sign)\n",
    "    isPressSign = True\n",
    "    if sign == 'AC':\n",
    "        lists.clear()\n",
    "        result.set(0)\n",
    "    if sign == 'b':\n",
    "        a = num[0:-1]\n",
    "        lists.clear()\n",
    "        result.set(a)\n",
    "\n",
    "\n",
    "def pressEqual():\n",
    "    global lists\n",
    "    global isPressSign\n",
    "    curnum = result.get()\n",
    "    lists.append(curnum)\n",
    "    computrStr = ''.join(lists)\n",
    "    endNum = eval(computrStr)\n",
    "    result.set(endNum)\n",
    "    result2.set(computrStr)\n",
    "    lists.clear()\n",
    "\n",
    "\n",
    "root.mainloop()\n",
    "\n",
    "## I write this question with some reference and tutorial"
   ]
  },
  {
   "cell_type": "markdown",
   "metadata": {},
   "source": [
    "#### $ NO.5 $"
   ]
  },
  {
   "cell_type": "code",
   "execution_count": 6,
   "metadata": {},
   "outputs": [],
   "source": [
    "from tkinter import *\n",
    "import matplotlib\n",
    "matplotlib.use('Agg')\n",
    "import random\n",
    "import time\n",
    "class Ball:\n",
    "    def __init__(self, canvas, paddle, color):\n",
    "        self.canvas = canvas\n",
    "        self.paddle = paddle\n",
    "        self.id = canvas.create_oval(10, 10, 25, 25, fill=color)\n",
    "        self.canvas.move(self.id, 245, 100)\n",
    "        startx = [-3, -2, -1, 1, 2, 3]\n",
    "        random.shuffle(startx)\n",
    "        self.x = startx[0]\n",
    "        self.y = -3\n",
    "        self.canvas_height = self.canvas.winfo_height()\n",
    "        self.canvas_width = self.canvas.winfo_width()\n",
    "        self.hit_bottom = False\n",
    "    def draw(self):\n",
    "        self.canvas.move(self.id, self.x, self.y)\n",
    "        pos = self.canvas.coords(self.id)#top-left bottom-right\n",
    "        if (pos[1] <= 0 or self.hit_paddle(pos) == True):\n",
    "            self.y = -self.y\n",
    "        if (pos[0] <= 0 or pos[2] >= self.canvas_width):\n",
    "            self.x = -self.x\n",
    "        if (pos[3] >= self.canvas_height):\n",
    "            self.hit_bottom = True\n",
    "    def hit_paddle(self, pos):\n",
    "        paddle_pos = self.canvas.coords(self.paddle.id)\n",
    "        if (pos[2] >= paddle_pos[0] and pos[0] <= paddle_pos[2]):\n",
    "            if (pos[3] >= paddle_pos[1] and pos[3] <= paddle_pos[3]):\n",
    "                return True\n",
    "        return False\n",
    "class Paddle:\n",
    "    def __init__(self, canvas, color):\n",
    "        self.canvas = canvas\n",
    "        self.id = canvas.create_rectangle(0, 0, 100, 10, fill = color)\n",
    "        self.x = 0\n",
    "        self.canvas.move(self.id, 200, 300)\n",
    "        self.canvas_width = self.canvas.winfo_width()\n",
    "        self.canvas.bind_all(\"<Key-Left>\", self.turn_left)\n",
    "        self.canvas.bind_all(\"<Key-Right>\", self.turn_right)\n",
    "    def draw(self):\n",
    "        pos = self.canvas.coords(self.id)\n",
    "        if (pos[0] + self.x >= 0 and pos[2] + self.x <= self.canvas_width):\n",
    "            self.canvas.move(self.id, self.x, 0)\n",
    "        #self.x = 0\n",
    "    def turn_left(self, event):\n",
    "        self.x = -4\n",
    "    def turn_right(self, event):\n",
    "        self.x = 4\n",
    "tk = Tk()\n",
    "tk.title(\"Game\")\n",
    "tk.resizable(0, 0)#not resizable\n",
    "tk.wm_attributes(\"-topmost\", 1)#at top\n",
    "canvas = Canvas(tk, width = 500, height = 500, bd = 0, highlightthickness = 0)\n",
    "canvas.pack()\n",
    "tk.update()#init\n",
    "paddle = Paddle(canvas, 'blue')\n",
    "ball = Ball(canvas, paddle, 'red')\n",
    "\n",
    "try:\n",
    "    while 1:\n",
    "        if (ball.hit_bottom == False):\n",
    "            ball.draw()\n",
    "            paddle.draw()\n",
    "            tk.update_idletasks()\n",
    "            tk.update()\n",
    "            time.sleep(0.01)\n",
    "        elif ball.hit_bottom == True:\n",
    "            canvas.create_text(200, 100, text='Interesting!')\n",
    "            tk.update()\n",
    "            tk.mainloop()\n",
    "except:\n",
    "    x=1\n"
   ]
  }
 ],
 "metadata": {
  "kernelspec": {
   "display_name": "Python 3",
   "language": "python",
   "name": "python3"
  },
  "language_info": {
   "codemirror_mode": {
    "name": "ipython",
    "version": 3
   },
   "file_extension": ".py",
   "mimetype": "text/x-python",
   "name": "python",
   "nbconvert_exporter": "python",
   "pygments_lexer": "ipython3",
   "version": "3.6.5"
  }
 },
 "nbformat": 4,
 "nbformat_minor": 2
}
