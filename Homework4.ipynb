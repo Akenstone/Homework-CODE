{
 "cells": [
  {
   "cell_type": "markdown",
   "metadata": {},
   "source": [
    "#### $ Theory $"
   ]
  },
  {
   "cell_type": "markdown",
   "metadata": {},
   "source": [
    "#### $ No.1 $"
   ]
  },
  {
   "cell_type": "markdown",
   "metadata": {},
   "source": [
    "1. H(x): x is a person.\n",
    "   G(x): x has black hair.\n",
    "   proposition: ∀x F(x)⇒G(x)\n",
    "   If Tom has white hair, he is a person while he doesn't has black hair.\n",
    "   So the proposition is false.\n",
    "2. H(x): x is a person.\n",
    "   G(x): x boarded the moon.\n",
    "   propotion: ∃x F(x)⇒G(x)\n",
    "   Some people have landed on the moon indeed.\n",
    "   The proposition is true.\n",
    "3. H(x): x is a person.\n",
    "   G(x): x has boarded Jupiter.\n",
    "   proposition: ∀x F(x)⇒￢G(x)\n",
    "   Everyone on earth has not boarded Jupiter.\n",
    "   The proposition is true.\n",
    "4. H(x): x is studying in the US.\n",
    "   G(x): x are Asians.\n",
    "   proposition: ∃x F(x)⇒￢G(x)\n",
    "   There is a student who studies in the US but is not Asian."
   ]
  },
  {
   "cell_type": "markdown",
   "metadata": {},
   "source": [
    "#### $ No.2 $"
   ]
  },
  {
   "cell_type": "markdown",
   "metadata": {},
   "source": [
    "1. Tautology. Because the second proposition is false if and only if the second term is true and the third thid term is false, which indicates the third (first) term is false. So this proposition will always be true.\n",
    "2. Contradiction. Consider the second (third) term, if it is true, the first part will always be false. When it is false, the last part (the third term) is false. So this propositon is a contradiction.\n",
    "3. Neither. Formula could either be true or false."
   ]
  },
  {
   "cell_type": "markdown",
   "metadata": {},
   "source": [
    "#### $ No.3 $"
   ]
  },
  {
   "cell_type": "markdown",
   "metadata": {},
   "source": [
    "1. True. Obviously.\n",
    "2. True.  The left has one model while the right has two.\n",
    "3. True. Because RHS is false only when both terms are false. When A & B are true and C is false, the LHS is also false.\n",
    "4. True. Removing the conjunct allows more models.\n",
    "5. False. Removing a disjunct allows fewer models."
   ]
  },
  {
   "cell_type": "markdown",
   "metadata": {},
   "source": [
    "#### $ No.4 $"
   ]
  },
  {
   "cell_type": "markdown",
   "metadata": {},
   "source": [
    "P∧(Q⇒R)⇒S\n",
    "\n",
    "=￢(P∧(￢Q∨R)∨S\n",
    "\n",
    "=￢P∨￢(￢Q∨R)∨S\n",
    "\n",
    "=￢P∨(Q∧￢R)∨S\n",
    "\n",
    "=￢P∨S∨(Q∧￢R)\n",
    "\n",
    "=(￢P∨S∨Q)∧(￢P∨S∨￢R)"
   ]
  },
  {
   "cell_type": "markdown",
   "metadata": {},
   "source": [
    "#### $ No.5 $"
   ]
  },
  {
   "cell_type": "markdown",
   "metadata": {},
   "source": [
    "1. ∀x Even(x) ⇒ ∃t Integer(t) x=2t\n",
    "2. ∀x Prime(x) ⇒ ∀s,t s*t = x ⇒ s=1,t=x or s=x,t=1\n",
    "3. ∀x Even(x) ⇒ ∃ y,z Prime(y)∧Prime(z)^y+z=x"
   ]
  },
  {
   "cell_type": "markdown",
   "metadata": {},
   "source": [
    "#### $ Programming $"
   ]
  },
  {
   "cell_type": "markdown",
   "metadata": {},
   "source": [
    "In Assignment 3."
   ]
  }
 ],
 "metadata": {
  "kernelspec": {
   "display_name": "Python 3",
   "language": "python",
   "name": "python3"
  },
  "language_info": {
   "codemirror_mode": {
    "name": "ipython",
    "version": 3
   },
   "file_extension": ".py",
   "mimetype": "text/x-python",
   "name": "python",
   "nbconvert_exporter": "python",
   "pygments_lexer": "ipython3",
   "version": "3.6.5"
  }
 },
 "nbformat": 4,
 "nbformat_minor": 2
}
