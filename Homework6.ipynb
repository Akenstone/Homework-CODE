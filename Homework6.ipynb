{
 "cells": [
  {
   "cell_type": "markdown",
   "metadata": {},
   "source": [
    "# Weeks 13-14\n",
    "\n",
    "## Natural Language Processing\n",
    "***"
   ]
  },
  {
   "cell_type": "markdown",
   "metadata": {},
   "source": [
    "Read in some packages."
   ]
  },
  {
   "cell_type": "code",
   "execution_count": 9,
   "metadata": {},
   "outputs": [],
   "source": [
    "# Import pandas to read in data\n",
    "import numpy as np\n",
    "import pandas as pd\n",
    "\n",
    "# Import models and evaluation functions\n",
    "from sklearn.linear_model import LogisticRegression\n",
    "from sklearn.naive_bayes import BernoulliNB\n",
    "from sklearn import metrics\n",
    "from sklearn import cross_validation\n",
    "\n",
    "# Import vectorizers to turn text into numeric\n",
    "from sklearn.feature_extraction.text import CountVectorizer\n",
    "from sklearn.feature_extraction.text import TfidfVectorizer\n",
    "\n",
    "# Import plotting\n",
    "import matplotlib.pylab as plt\n",
    "%matplotlib inline"
   ]
  },
  {
   "cell_type": "markdown",
   "metadata": {},
   "source": [
    "## Basic Feature Engineering\n",
    "We have examined two ways of dealing with categorical (i.e. text based) data: binarizing/dummy variables and numerical scaling. \n",
    "\n",
    "See the following examples for implementation in sklearn to start:"
   ]
  },
  {
   "cell_type": "code",
   "execution_count": 2,
   "metadata": {},
   "outputs": [],
   "source": [
    "data = pd.read_csv(\"data/categorical.csv\")"
   ]
  },
  {
   "cell_type": "code",
   "execution_count": 3,
   "metadata": {},
   "outputs": [
    {
     "data": {
      "text/html": [
       "<div>\n",
       "<style scoped>\n",
       "    .dataframe tbody tr th:only-of-type {\n",
       "        vertical-align: middle;\n",
       "    }\n",
       "\n",
       "    .dataframe tbody tr th {\n",
       "        vertical-align: top;\n",
       "    }\n",
       "\n",
       "    .dataframe thead th {\n",
       "        text-align: right;\n",
       "    }\n",
       "</style>\n",
       "<table border=\"1\" class=\"dataframe\">\n",
       "  <thead>\n",
       "    <tr style=\"text-align: right;\">\n",
       "      <th></th>\n",
       "      <th>Minutes</th>\n",
       "      <th>Gender</th>\n",
       "      <th>Marital</th>\n",
       "      <th>Satisfaction</th>\n",
       "      <th>Churn</th>\n",
       "    </tr>\n",
       "  </thead>\n",
       "  <tbody>\n",
       "    <tr>\n",
       "      <th>0</th>\n",
       "      <td>100</td>\n",
       "      <td>Male</td>\n",
       "      <td>Single</td>\n",
       "      <td>Low</td>\n",
       "      <td>0</td>\n",
       "    </tr>\n",
       "    <tr>\n",
       "      <th>1</th>\n",
       "      <td>220</td>\n",
       "      <td>Female</td>\n",
       "      <td>Married</td>\n",
       "      <td>Very Low</td>\n",
       "      <td>0</td>\n",
       "    </tr>\n",
       "    <tr>\n",
       "      <th>2</th>\n",
       "      <td>500</td>\n",
       "      <td>Female</td>\n",
       "      <td>Divorced</td>\n",
       "      <td>High</td>\n",
       "      <td>1</td>\n",
       "    </tr>\n",
       "    <tr>\n",
       "      <th>3</th>\n",
       "      <td>335</td>\n",
       "      <td>Male</td>\n",
       "      <td>Single</td>\n",
       "      <td>Neutral</td>\n",
       "      <td>0</td>\n",
       "    </tr>\n",
       "    <tr>\n",
       "      <th>4</th>\n",
       "      <td>450</td>\n",
       "      <td>Male</td>\n",
       "      <td>Married</td>\n",
       "      <td>Very High</td>\n",
       "      <td>1</td>\n",
       "    </tr>\n",
       "  </tbody>\n",
       "</table>\n",
       "</div>"
      ],
      "text/plain": [
       "   Minutes  Gender   Marital Satisfaction  Churn\n",
       "0      100    Male    Single          Low      0\n",
       "1      220  Female   Married     Very Low      0\n",
       "2      500  Female  Divorced         High      1\n",
       "3      335    Male    Single      Neutral      0\n",
       "4      450    Male   Married    Very High      1"
      ]
     },
     "execution_count": 3,
     "metadata": {},
     "output_type": "execute_result"
    }
   ],
   "source": [
    "data"
   ]
  },
  {
   "cell_type": "markdown",
   "metadata": {},
   "source": [
    "### Binarizing\n",
    "Get a list of features you want to binarize, go through each feature and create new features for each level."
   ]
  },
  {
   "cell_type": "code",
   "execution_count": 4,
   "metadata": {},
   "outputs": [],
   "source": [
    "features_to_binarize = [\"Gender\", \"Marital\"]\n",
    "\n",
    "# Go through each feature\n",
    "for feature in features_to_binarize:\n",
    "    # Go through each level in this feature (except the last one!)\n",
    "    for level in data[feature].unique()[0:-1]:\n",
    "        # Create new feature for this level\n",
    "        data[feature + \"_\" + level] = pd.Series(data[feature] == level, dtype=int)\n",
    "    # Drop original feature\n",
    "    data = data.drop([feature], 1)"
   ]
  },
  {
   "cell_type": "code",
   "execution_count": 5,
   "metadata": {},
   "outputs": [
    {
     "data": {
      "text/html": [
       "<div>\n",
       "<style scoped>\n",
       "    .dataframe tbody tr th:only-of-type {\n",
       "        vertical-align: middle;\n",
       "    }\n",
       "\n",
       "    .dataframe tbody tr th {\n",
       "        vertical-align: top;\n",
       "    }\n",
       "\n",
       "    .dataframe thead th {\n",
       "        text-align: right;\n",
       "    }\n",
       "</style>\n",
       "<table border=\"1\" class=\"dataframe\">\n",
       "  <thead>\n",
       "    <tr style=\"text-align: right;\">\n",
       "      <th></th>\n",
       "      <th>Minutes</th>\n",
       "      <th>Satisfaction</th>\n",
       "      <th>Churn</th>\n",
       "      <th>Gender_Male</th>\n",
       "      <th>Marital_Single</th>\n",
       "      <th>Marital_Married</th>\n",
       "    </tr>\n",
       "  </thead>\n",
       "  <tbody>\n",
       "    <tr>\n",
       "      <th>0</th>\n",
       "      <td>100</td>\n",
       "      <td>Low</td>\n",
       "      <td>0</td>\n",
       "      <td>1</td>\n",
       "      <td>1</td>\n",
       "      <td>0</td>\n",
       "    </tr>\n",
       "    <tr>\n",
       "      <th>1</th>\n",
       "      <td>220</td>\n",
       "      <td>Very Low</td>\n",
       "      <td>0</td>\n",
       "      <td>0</td>\n",
       "      <td>0</td>\n",
       "      <td>1</td>\n",
       "    </tr>\n",
       "    <tr>\n",
       "      <th>2</th>\n",
       "      <td>500</td>\n",
       "      <td>High</td>\n",
       "      <td>1</td>\n",
       "      <td>0</td>\n",
       "      <td>0</td>\n",
       "      <td>0</td>\n",
       "    </tr>\n",
       "    <tr>\n",
       "      <th>3</th>\n",
       "      <td>335</td>\n",
       "      <td>Neutral</td>\n",
       "      <td>0</td>\n",
       "      <td>1</td>\n",
       "      <td>1</td>\n",
       "      <td>0</td>\n",
       "    </tr>\n",
       "    <tr>\n",
       "      <th>4</th>\n",
       "      <td>450</td>\n",
       "      <td>Very High</td>\n",
       "      <td>1</td>\n",
       "      <td>1</td>\n",
       "      <td>0</td>\n",
       "      <td>1</td>\n",
       "    </tr>\n",
       "  </tbody>\n",
       "</table>\n",
       "</div>"
      ],
      "text/plain": [
       "   Minutes Satisfaction  Churn  Gender_Male  Marital_Single  Marital_Married\n",
       "0      100          Low      0            1               1                0\n",
       "1      220     Very Low      0            0               0                1\n",
       "2      500         High      1            0               0                0\n",
       "3      335      Neutral      0            1               1                0\n",
       "4      450    Very High      1            1               0                1"
      ]
     },
     "execution_count": 5,
     "metadata": {},
     "output_type": "execute_result"
    }
   ],
   "source": [
    "data"
   ]
  },
  {
   "cell_type": "markdown",
   "metadata": {},
   "source": [
    "### Numeric scaling\n",
    "We can also replace text levels with some numeric mapping we create"
   ]
  },
  {
   "cell_type": "code",
   "execution_count": 6,
   "metadata": {},
   "outputs": [],
   "source": [
    "data['Satisfaction'] = data['Satisfaction'].replace(['Very Low', 'Low', 'Neutral', 'High', 'Very High'], \n",
    "                                                    [-2, -1, 0, 1, 2])"
   ]
  },
  {
   "cell_type": "code",
   "execution_count": 7,
   "metadata": {},
   "outputs": [
    {
     "data": {
      "text/html": [
       "<div>\n",
       "<style scoped>\n",
       "    .dataframe tbody tr th:only-of-type {\n",
       "        vertical-align: middle;\n",
       "    }\n",
       "\n",
       "    .dataframe tbody tr th {\n",
       "        vertical-align: top;\n",
       "    }\n",
       "\n",
       "    .dataframe thead th {\n",
       "        text-align: right;\n",
       "    }\n",
       "</style>\n",
       "<table border=\"1\" class=\"dataframe\">\n",
       "  <thead>\n",
       "    <tr style=\"text-align: right;\">\n",
       "      <th></th>\n",
       "      <th>Minutes</th>\n",
       "      <th>Satisfaction</th>\n",
       "      <th>Churn</th>\n",
       "      <th>Gender_Male</th>\n",
       "      <th>Marital_Single</th>\n",
       "      <th>Marital_Married</th>\n",
       "    </tr>\n",
       "  </thead>\n",
       "  <tbody>\n",
       "    <tr>\n",
       "      <th>0</th>\n",
       "      <td>100</td>\n",
       "      <td>-1</td>\n",
       "      <td>0</td>\n",
       "      <td>1</td>\n",
       "      <td>1</td>\n",
       "      <td>0</td>\n",
       "    </tr>\n",
       "    <tr>\n",
       "      <th>1</th>\n",
       "      <td>220</td>\n",
       "      <td>-2</td>\n",
       "      <td>0</td>\n",
       "      <td>0</td>\n",
       "      <td>0</td>\n",
       "      <td>1</td>\n",
       "    </tr>\n",
       "    <tr>\n",
       "      <th>2</th>\n",
       "      <td>500</td>\n",
       "      <td>1</td>\n",
       "      <td>1</td>\n",
       "      <td>0</td>\n",
       "      <td>0</td>\n",
       "      <td>0</td>\n",
       "    </tr>\n",
       "    <tr>\n",
       "      <th>3</th>\n",
       "      <td>335</td>\n",
       "      <td>0</td>\n",
       "      <td>0</td>\n",
       "      <td>1</td>\n",
       "      <td>1</td>\n",
       "      <td>0</td>\n",
       "    </tr>\n",
       "    <tr>\n",
       "      <th>4</th>\n",
       "      <td>450</td>\n",
       "      <td>2</td>\n",
       "      <td>1</td>\n",
       "      <td>1</td>\n",
       "      <td>0</td>\n",
       "      <td>1</td>\n",
       "    </tr>\n",
       "  </tbody>\n",
       "</table>\n",
       "</div>"
      ],
      "text/plain": [
       "   Minutes  Satisfaction  Churn  Gender_Male  Marital_Single  Marital_Married\n",
       "0      100            -1      0            1               1                0\n",
       "1      220            -2      0            0               0                1\n",
       "2      500             1      1            0               0                0\n",
       "3      335             0      0            1               1                0\n",
       "4      450             2      1            1               0                1"
      ]
     },
     "execution_count": 7,
     "metadata": {},
     "output_type": "execute_result"
    }
   ],
   "source": [
    "data"
   ]
  },
  {
   "cell_type": "markdown",
   "metadata": {},
   "source": [
    "## Text classification\n",
    "We are going to look at some Amazon reviews and classify them into positive or negative."
   ]
  },
  {
   "cell_type": "markdown",
   "metadata": {},
   "source": [
    "### Data\n",
    "The file `data/books.csv` contains 2,000 Amazon book reviews. The data set contains two features: the first column (contained in quotes) is the review text. The second column is a binary label indicating if the review is positive or negative.\n",
    "\n",
    "Let's take a quick look at the file."
   ]
  },
  {
   "cell_type": "code",
   "execution_count": 12,
   "metadata": {},
   "outputs": [
    {
     "name": "stdout",
     "output_type": "stream",
     "text": [
      "review_text,positive\n",
      "\"THis book was horrible.  If it was possible to rate it lower than one star i would have.  I am an avid reader and picked this book up after my mom had gotten it from a friend.  I read half of it, suffering from a headache the entire time, and then got to the part about the relationship the 13 year old boy had with a 33 year old man and i lit this book on fire.  One less copy in the world...don't waste your money.I wish i had the time spent reading this book back so i could use it for better purposes.  THis book wasted my life\",0\n",
      "\"I like to use the Amazon reviews when purchasing books, especially alert for dissenting perceptions about higly rated items, which usually disuades me from a selection.  So I offer this review that seriously questions the popularity of this work - I found it smug, self-serving and self-indulgent, written by a person with little or no empathy, especially for the people he castigates. For example, his portrayal of the family therapist seems implausible and reaches for effect and panders to theshrink bashers of the world. This play for effect tone throughout the book was very distasteful to me\",0\n"
     ]
    }
   ],
   "source": [
    "!head -3 data/books.csv"
   ]
  },
  {
   "cell_type": "markdown",
   "metadata": {},
   "source": [
    "Let's read the data into a pandas data frame. You'll notice two new attributed in `pd.read_csv()` that we've never seen before. The first, `quotechar` is tell us what is being used to \"encapsulate\" the text fields. Since our review text is surrounding by double quotes, we let pandas know. We use a `\\` since the quote is also used to surround the quote. This backslash is known as an escape character. We also let pandas now this."
   ]
  },
  {
   "cell_type": "code",
   "execution_count": 13,
   "metadata": {},
   "outputs": [],
   "source": [
    "data = pd.read_csv(\"data/books.csv\", quotechar=\"\\\"\", escapechar=\"\\\\\")"
   ]
  },
  {
   "cell_type": "code",
   "execution_count": 14,
   "metadata": {
    "scrolled": true
   },
   "outputs": [
    {
     "data": {
      "text/html": [
       "<div>\n",
       "<style scoped>\n",
       "    .dataframe tbody tr th:only-of-type {\n",
       "        vertical-align: middle;\n",
       "    }\n",
       "\n",
       "    .dataframe tbody tr th {\n",
       "        vertical-align: top;\n",
       "    }\n",
       "\n",
       "    .dataframe thead th {\n",
       "        text-align: right;\n",
       "    }\n",
       "</style>\n",
       "<table border=\"1\" class=\"dataframe\">\n",
       "  <thead>\n",
       "    <tr style=\"text-align: right;\">\n",
       "      <th></th>\n",
       "      <th>review_text</th>\n",
       "      <th>positive</th>\n",
       "    </tr>\n",
       "  </thead>\n",
       "  <tbody>\n",
       "    <tr>\n",
       "      <th>0</th>\n",
       "      <td>THis book was horrible.  If it was possible to...</td>\n",
       "      <td>0</td>\n",
       "    </tr>\n",
       "    <tr>\n",
       "      <th>1</th>\n",
       "      <td>I like to use the Amazon reviews when purchasi...</td>\n",
       "      <td>0</td>\n",
       "    </tr>\n",
       "    <tr>\n",
       "      <th>2</th>\n",
       "      <td>THis book was horrible.  If it was possible to...</td>\n",
       "      <td>0</td>\n",
       "    </tr>\n",
       "    <tr>\n",
       "      <th>3</th>\n",
       "      <td>I'm not sure who's writing these reviews, but ...</td>\n",
       "      <td>0</td>\n",
       "    </tr>\n",
       "    <tr>\n",
       "      <th>4</th>\n",
       "      <td>I picked up the first book in this series (The...</td>\n",
       "      <td>0</td>\n",
       "    </tr>\n",
       "  </tbody>\n",
       "</table>\n",
       "</div>"
      ],
      "text/plain": [
       "                                         review_text  positive\n",
       "0  THis book was horrible.  If it was possible to...         0\n",
       "1  I like to use the Amazon reviews when purchasi...         0\n",
       "2  THis book was horrible.  If it was possible to...         0\n",
       "3  I'm not sure who's writing these reviews, but ...         0\n",
       "4  I picked up the first book in this series (The...         0"
      ]
     },
     "execution_count": 14,
     "metadata": {},
     "output_type": "execute_result"
    }
   ],
   "source": [
    "data.head()"
   ]
  },
  {
   "cell_type": "markdown",
   "metadata": {},
   "source": [
    "### Text as a set of features\n",
    "Going from text to numeric data is very easy. Let's take a look at how we can do this. We'll start by separating out our X and Y data."
   ]
  },
  {
   "cell_type": "code",
   "execution_count": 15,
   "metadata": {},
   "outputs": [],
   "source": [
    "X_text = data['review_text']\n",
    "Y = data['positive']"
   ]
  },
  {
   "cell_type": "code",
   "execution_count": 16,
   "metadata": {},
   "outputs": [
    {
     "data": {
      "text/plain": [
       "0    THis book was horrible.  If it was possible to...\n",
       "1    I like to use the Amazon reviews when purchasi...\n",
       "2    THis book was horrible.  If it was possible to...\n",
       "3    I'm not sure who's writing these reviews, but ...\n",
       "4    I picked up the first book in this series (The...\n",
       "Name: review_text, dtype: object"
      ]
     },
     "execution_count": 16,
     "metadata": {},
     "output_type": "execute_result"
    }
   ],
   "source": [
    "# look at the first few lines of X_text\n",
    "X_text.head()"
   ]
  },
  {
   "cell_type": "markdown",
   "metadata": {},
   "source": [
    "Do the same for Y"
   ]
  },
  {
   "cell_type": "code",
   "execution_count": 17,
   "metadata": {},
   "outputs": [
    {
     "data": {
      "text/plain": [
       "0    0\n",
       "1    0\n",
       "2    0\n",
       "3    0\n",
       "4    0\n",
       "Name: positive, dtype: int64"
      ]
     },
     "execution_count": 17,
     "metadata": {},
     "output_type": "execute_result"
    }
   ],
   "source": [
    "# your code here\n",
    "Y.head()"
   ]
  },
  {
   "cell_type": "markdown",
   "metadata": {},
   "source": [
    "Next, we will turn `X_text` into just `X` -- a numeric representation that we can use in our algorithms or for queries...\n",
    "\n",
    "Text preprocessing, tokenizing and filtering of stopwords are all included in CountVectorizer, which builds a dictionary of features and transforms documents to feature vectors. \n",
    "\n",
    "The result of the following is a matrix with each row a file and each column a word. The matrix is sparse because most words only appear a few times. The values are 1 if a word appears in a document and 1 otherwise."
   ]
  },
  {
   "cell_type": "code",
   "execution_count": 18,
   "metadata": {},
   "outputs": [],
   "source": [
    "# Create a vectorizer that will track text as binary features\n",
    "binary_vectorizer = CountVectorizer(binary=True)\n",
    "\n",
    "# Let the vectorizer learn what tokens exist in the text data\n",
    "binary_vectorizer.fit(X_text)\n",
    "\n",
    "# Turn these tokens into a numeric matrix\n",
    "X = binary_vectorizer.transform(X_text)"
   ]
  },
  {
   "cell_type": "code",
   "execution_count": 19,
   "metadata": {},
   "outputs": [
    {
     "data": {
      "text/plain": [
       "(2000, 22743)"
      ]
     },
     "execution_count": 19,
     "metadata": {},
     "output_type": "execute_result"
    }
   ],
   "source": [
    "# Dimensions of X:\n",
    "X.shape\n"
   ]
  },
  {
   "cell_type": "markdown",
   "metadata": {},
   "source": [
    "There are 2000 documents (each row) and 22,743 words/tokens.\n",
    "\n",
    "Can look at some of the words by querying the binary vectorizer:"
   ]
  },
  {
   "cell_type": "code",
   "execution_count": 20,
   "metadata": {},
   "outputs": [
    {
     "data": {
      "text/plain": [
       "['hygi',\n",
       " 'hygience',\n",
       " 'hygiene',\n",
       " 'hyojin',\n",
       " 'hype',\n",
       " 'hyped',\n",
       " 'hyper',\n",
       " 'hyperbole',\n",
       " 'hyperpat',\n",
       " 'hyperpussiance',\n",
       " 'hyperspace',\n",
       " 'hypnosis',\n",
       " 'hypnotic',\n",
       " 'hypnotism',\n",
       " 'hypnotizing',\n",
       " 'hypocrisy',\n",
       " 'hypocrite',\n",
       " 'hypocritical',\n",
       " 'hypocritically',\n",
       " 'hypoglycemia']"
      ]
     },
     "execution_count": 20,
     "metadata": {},
     "output_type": "execute_result"
    }
   ],
   "source": [
    "# List of the 20 features (words) in column 10,000\n",
    "features = binary_vectorizer.get_feature_names()\n",
    "features[10000:10020]"
   ]
  },
  {
   "cell_type": "markdown",
   "metadata": {},
   "source": [
    "Spend some time to look at the binary vectoriser.\n",
    "\n",
    "Examine the structure of X. Look at some the rows and columns values."
   ]
  },
  {
   "cell_type": "code",
   "execution_count": 21,
   "metadata": {},
   "outputs": [
    {
     "data": {
      "image/png": "[encoded data removed]",
      "text/plain": [
       "<Figure size 1440x720 with 1 Axes>"
      ]
     },
     "metadata": {},
     "output_type": "display_data"
    }
   ],
   "source": [
    "# see the density of 0s and 1s in X\n",
    "import scipy.sparse as sps\n",
    "import matplotlib.pyplot as plt\n",
    "plt.figure(figsize=(20,10))\n",
    "plt.spy(X.toarray())\n",
    "plt.show()"
   ]
  },
  {
   "cell_type": "markdown",
   "metadata": {},
   "source": [
    "Look at the sparse matrix above. Notice how some columns are quite dark (i.e. the words appear in almost every file). \n",
    "\n",
    "What are the 5 most common words?"
   ]
  },
  {
   "cell_type": "code",
   "execution_count": 28,
   "metadata": {},
   "outputs": [
    {
     "name": "stdout",
     "output_type": "stream",
     "text": [
      "['and', 'book', 'of', 'this', 'to']\n"
     ]
    }
   ],
   "source": [
    "# your code here\n",
    "calculateSum = X.toarray().sum(axis=0)\n",
    "##print(calculateSum)\n",
    "sort = np.sort(calculateSum)\n",
    "##print(sort)\n",
    "temp =sort[-6:-1]\n",
    "#print(mostFive)\n",
    "words=[]\n",
    "for i in range(len(features)):\n",
    "    if calculateSum[i] in temp:\n",
    "        words.append(features[i])\n",
    "if len(words) >=5:\n",
    "    words = words[0:5]\n",
    "## delete the words that have same \n",
    "print(words)"
   ]
  },
  {
   "cell_type": "markdown",
   "metadata": {},
   "source": [
    "Your answer here"
   ]
  },
  {
   "cell_type": "markdown",
   "metadata": {},
   "source": [
    "Write a function that takes the sparse matrix X, and gets the feature list from the vectoriser, and a document index (1 - 2000) and returns a list of the words in the file that corresponds to the index (the list should be obtained from the sparse matrix / bag of words representation NOT from the original data file). "
   ]
  },
  {
   "cell_type": "code",
   "execution_count": 29,
   "metadata": {},
   "outputs": [
    {
     "data": {
      "text/plain": [
       "['about',\n",
       " 'alert',\n",
       " 'amazon',\n",
       " 'and',\n",
       " 'bashers',\n",
       " 'book',\n",
       " 'books',\n",
       " 'by',\n",
       " 'castigates',\n",
       " 'dissenting',\n",
       " 'distasteful',\n",
       " 'disuades',\n",
       " 'effect',\n",
       " 'empathy',\n",
       " 'especially',\n",
       " 'example',\n",
       " 'family',\n",
       " 'for',\n",
       " 'found',\n",
       " 'from',\n",
       " 'he',\n",
       " 'higly',\n",
       " 'his',\n",
       " 'implausible',\n",
       " 'indulgent',\n",
       " 'it',\n",
       " 'items',\n",
       " 'like',\n",
       " 'little',\n",
       " 'me',\n",
       " 'no',\n",
       " 'of',\n",
       " 'offer',\n",
       " 'or',\n",
       " 'panders',\n",
       " 'people',\n",
       " 'perceptions',\n",
       " 'person',\n",
       " 'play',\n",
       " 'popularity',\n",
       " 'portrayal',\n",
       " 'purchasing',\n",
       " 'questions',\n",
       " 'rated',\n",
       " 'reaches',\n",
       " 'review',\n",
       " 'reviews',\n",
       " 'seems',\n",
       " 'selection',\n",
       " 'self',\n",
       " 'seriously',\n",
       " 'serving',\n",
       " 'smug',\n",
       " 'so',\n",
       " 'that',\n",
       " 'the',\n",
       " 'therapist',\n",
       " 'theshrink',\n",
       " 'this',\n",
       " 'throughout',\n",
       " 'to',\n",
       " 'tone',\n",
       " 'use',\n",
       " 'usually',\n",
       " 'very',\n",
       " 'was',\n",
       " 'when',\n",
       " 'which',\n",
       " 'with',\n",
       " 'work',\n",
       " 'world',\n",
       " 'written']"
      ]
     },
     "execution_count": 29,
     "metadata": {},
     "output_type": "execute_result"
    }
   ],
   "source": [
    "# complete the function \n",
    "# returns vector of words / features\n",
    "def getWords(bag_of_words, file_index_row, features_list):\n",
    "    \n",
    "    array = bag_of_words.toarray()\n",
    "    row = array[file_index_row,:]\n",
    "    result = []\n",
    "    for r in range (len(row)):\n",
    "        if(row[r]==1):\n",
    "            result.append(features_list[r])\n",
    "    return result\n",
    "\n",
    "getWords(X, 1, features)"
   ]
  },
  {
   "cell_type": "markdown",
   "metadata": {},
   "source": [
    "### Modeling\n",
    "We have a 22743 features, let's use them in some different models."
   ]
  },
  {
   "cell_type": "code",
   "execution_count": 31,
   "metadata": {},
   "outputs": [
    {
     "name": "stdout",
     "output_type": "stream",
     "text": [
      "Mean accuracy of our classifier is 0.768\n"
     ]
    }
   ],
   "source": [
    "# Create a model\n",
    "logistic_regression = LogisticRegression()\n",
    "\n",
    "# Use this model and our data to get 5-fold cross validation accuracy\n",
    "acc = cross_validation.cross_val_score(logistic_regression, X, Y, scoring=\"accuracy\", cv=5)\n",
    "\n",
    "# Print out the average accuracy rounded to three decimal points\n",
    "print (\"Mean accuracy of our classifier is \" + str(round(np.mean(acc), 3)) )"
   ]
  },
  {
   "cell_type": "code",
   "execution_count": null,
   "metadata": {},
   "outputs": [],
   "source": [
    "Use the above classifier to classify a new example (new review below):"
   ]
  },
  {
   "cell_type": "code",
   "execution_count": 33,
   "metadata": {},
   "outputs": [
    {
     "name": "stdout",
     "output_type": "stream",
     "text": [
      "Negative review\n"
     ]
    }
   ],
   "source": [
    "new_review = \"\"\"\"\n",
    "really bad book!\n",
    "\"\"\"\n",
    "# your code here ...\n",
    "words = new_review.split(' ')\n",
    "matrix = []\n",
    "for r in range(len(features)):\n",
    "    if features[r] in words:\n",
    "        matrix.append(1)\n",
    "    else:\n",
    "        matrix.append(0)\n",
    "logistic = logistic_regression.fit(X.toarray(),Y)\n",
    "\n",
    "predict = logistic_regression.predict([matrix])\n",
    "if(predict==0):\n",
    "    print(\"Negative review\")\n",
    "else:\n",
    "    print(\"Positive review\")"
   ]
  },
  {
   "cell_type": "markdown",
   "metadata": {},
   "source": [
    "Let's try using full counts instead of a binary representation (i.e. each time a word appears use the raw count value). "
   ]
  },
  {
   "cell_type": "code",
   "execution_count": 34,
   "metadata": {},
   "outputs": [
    {
     "name": "stdout",
     "output_type": "stream",
     "text": [
      "Accuracy for our classifier is 0.786\n"
     ]
    }
   ],
   "source": [
    "# Create a vectorizer that will track text as binary features\n",
    "count_vectorizer = CountVectorizer()\n",
    "\n",
    "# Let the vectorizer learn what tokens exist in the text data\n",
    "count_vectorizer.fit(X_text)\n",
    "\n",
    "# Turn these tokens into a numeric matrix\n",
    "X = count_vectorizer.transform(X_text)\n",
    "\n",
    "# Create a model\n",
    "logistic_regression = LogisticRegression()\n",
    "\n",
    "# Use this model and our data to get 5-fold cross validation accuracy\n",
    "acc = cross_validation.cross_val_score(logistic_regression, X, Y, scoring=\"accuracy\", cv=5)\n",
    "\n",
    "# Print out the average AUC rounded to three decimal points\n",
    "print( \"Accuracy for our classifier is \" + str(round(np.mean(acc), 3)) )"
   ]
  },
  {
   "cell_type": "markdown",
   "metadata": {},
   "source": [
    "Now try using TF-IDF:"
   ]
  },
  {
   "cell_type": "code",
   "execution_count": 35,
   "metadata": {},
   "outputs": [
    {
     "name": "stdout",
     "output_type": "stream",
     "text": [
      "Accuracy for our classifier is 0.784\n"
     ]
    }
   ],
   "source": [
    "# Create a vectorizer that will track text as binary features\n",
    "tfidf_vectorizer = TfidfVectorizer()\n",
    "\n",
    "# Let the vectorizer learn what tokens exist in the text data\n",
    "tfidf_vectorizer.fit(X_text)\n",
    "\n",
    "# Turn these tokens into a numeric matrix\n",
    "X = tfidf_vectorizer.transform(X_text)\n",
    "\n",
    "# Create a model\n",
    "logistic_regression = LogisticRegression()\n",
    "\n",
    "# Use this model and our data to get 5-fold cross validation AUCs\n",
    "acc = cross_validation.cross_val_score(logistic_regression, X, Y, scoring=\"accuracy\", cv=5)\n",
    "\n",
    "# Print out the average AUC rounded to three decimal points\n",
    "print( \"Accuracy for our classifier is \" + str(round(np.mean(acc), 3)) )"
   ]
  },
  {
   "cell_type": "markdown",
   "metadata": {},
   "source": [
    "Use the tfidf classifier to classify some online book reviews from here: https://www.amazon.com/\n",
    "\n",
    "Hint: You can copy and paste a review from the online site into a multiline string literal with 3 quotes: \n",
    "```\n",
    "\"\"\"\n",
    "copied and pasted\n",
    "multiline\n",
    "string...\n",
    "\"\"\"\n",
    "```"
   ]
  },
  {
   "cell_type": "code",
   "execution_count": 37,
   "metadata": {},
   "outputs": [
    {
     "name": "stdout",
     "output_type": "stream",
     "text": [
      "Negative review\n"
     ]
    }
   ],
   "source": [
    "# your code here\n",
    "new_review = \"\"\"\"\n",
    "Hands down this is Bukowski's single worst book.  \n",
    "Bought it when it first came out just before/after his death in 1994.  \n",
    "Having read just about everything the man had written, Pulp was a hugely disappointing epitaph.  If you've never read Bukowski start with Post Office or the short story collections, but avoid this like the plague.  A bad book.  I can't think of a single reason to recommend it\n",
    "\"\"\"\n",
    "# your code here ...\n",
    "words = new_review.split(' ')\n",
    "matrix = []\n",
    "for r in range(len(features)):\n",
    "    if features[r] in words:\n",
    "        matrix.append(1)\n",
    "    else:\n",
    "        matrix.append(0)\n",
    "logistic = logistic_regression.fit(X.toarray(),Y)\n",
    "\n",
    "predict = logistic_regression.predict([matrix])\n",
    "if(predict==0):\n",
    "    print(\"Negative review\")\n",
    "else:\n",
    "    print(\"Positive review\")"
   ]
  },
  {
   "cell_type": "markdown",
   "metadata": {},
   "source": [
    "### Extending the implementation\n",
    "#### Features\n",
    "Tfidf is looking pretty good! How about adding n-grams? Stop words? Lowercase transforming?\n",
    "\n",
    "We saw that the most common words include \"the\" and others above - start by making these stop words.\n",
    "\n",
    "N-grams are conjunctions of words (e.g. a 2-gram adds all sequences of 2 words)\n",
    "\n",
    "\n",
    "Look at the docs: `CountVectorizer()` and `TfidfVectorizer()` can be modified to handle all of these things. Work in groups and try a few different combinations of these settings for anything you want: binary counts, numeric counts, tf-idf counts. Here is how you would use these settings:\n",
    "\n",
    "- \"`ngram_range=(1,2)`\": would include unigrams and bigrams (ie including combinations of words in sequence)\n",
    "- \"`stop_words=\"english\"`\": would use a standard set of English stop words\n",
    "- \"`lowercase=False`\": would turn off lowercase transformation (it is actually on by default)!\n",
    "\n",
    "You can use some of these like this:\n",
    "\n",
    "`tfidf_vectorizer = TfidfVectorizer(ngram_range=(1,2), lowercase=False)`\n",
    "\n",
    "#### Models\n",
    "Next swap out the line creating a logistic regression with one making a naive Bayes or support vector machines (SVM). SVM have been shown to be very effective in text classification. Naive Bayes has been used a lot also.\n",
    "\n",
    "For example see: http://www.cs.cornell.edu/home/llee/papers/sentiment.pdf\n"
   ]
  },
  {
   "cell_type": "code",
   "execution_count": 46,
   "metadata": {},
   "outputs": [],
   "source": [
    "result = []\n",
    "names = []"
   ]
  },
  {
   "cell_type": "code",
   "execution_count": 47,
   "metadata": {},
   "outputs": [],
   "source": [
    "# Try different features, models, or both!\n",
    "# What is the highest accuracy you can get?\n",
    "from sklearn.feature_extraction.text import TfidfVectorizer\n",
    "from sklearn.svm import LinearSVC\n",
    "from sklearn.naive_bayes import MultinomialNB\n",
    "\n",
    "tfidf_vectorizer = TfidfVectorizer(ngram_range=(1,2), lowercase=False)\n",
    "# Turn these tokens into a numeric matrix\n",
    "\n",
    "tfidf_vectorizer.fit(X_text)\n",
    "numeric_X = tfidf_vectorizer.transform(X_text)\n",
    "\n",
    "LinearSVC  = LinearSVC()\n",
    "MultinomialNB = MultinomialNB()\n",
    "acc_SVC = cross_validation.cross_val_score(LinearSVC, numeric_X, Y, scoring=\"accuracy\", cv=5)\n",
    "acc_NB = cross_validation.cross_val_score(MultinomialNB, numeric_X, Y, scoring=\"accuracy\", cv=5)\n",
    "names.append(\"combine-svm\")\n",
    "names.append(\"combine-NB\")\n",
    "result.append(round(np.mean(acc_SVC), 3))\n",
    "result.append(round(np.mean(acc_NB), 3))"
   ]
  },
  {
   "cell_type": "code",
   "execution_count": 48,
   "metadata": {},
   "outputs": [],
   "source": [
    "from sklearn.feature_extraction.text import TfidfVectorizer\n",
    "from sklearn.svm import LinearSVC\n",
    "from sklearn.naive_bayes import MultinomialNB\n",
    "tfidf_vectorizer = TfidfVectorizer()\n",
    "# Turn these tokens into a numeric matrix\n",
    "\n",
    "tfidf_vectorizer.fit(X_text)\n",
    "numeric_X = tfidf_vectorizer.transform(X_text)\n",
    "\n",
    "LinearSVC  = LinearSVC()\n",
    "MultinomialNB = MultinomialNB()\n",
    "acc_SVC = cross_validation.cross_val_score(LinearSVC, numeric_X, Y, scoring=\"accuracy\", cv=5)\n",
    "acc_NB = cross_validation.cross_val_score(MultinomialNB, numeric_X, Y, scoring=\"accuracy\", cv=5)\n",
    "names.append(\"default-svm\")\n",
    "names.append(\"default-NB\")\n",
    "result.append(round(np.mean(acc_SVC), 3))\n",
    "result.append(round(np.mean(acc_NB), 3))"
   ]
  },
  {
   "cell_type": "code",
   "execution_count": 50,
   "metadata": {},
   "outputs": [
    {
     "name": "stdout",
     "output_type": "stream",
     "text": [
      "[0.81, 0.789, 0.788, 0.766]\n"
     ]
    },
    {
     "data": {
      "image/png": "[encoded data removed]",
      "text/plain": [
       "<Figure size 432x288 with 1 Axes>"
      ]
     },
     "metadata": {},
     "output_type": "display_data"
    }
   ],
   "source": [
    "print(result)\n",
    "plt.bar(range(len(result)), result,color='rgb',tick_label=names)\n",
    "plt.show()"
   ]
  },
  {
   "cell_type": "code",
   "execution_count": 51,
   "metadata": {},
   "outputs": [],
   "source": [
    "from sklearn.svm import LinearSVC\n",
    "from sklearn.naive_bayes import MultinomialNB\n",
    "\n",
    "count_vectorizer = CountVectorizer(ngram_range=(1,2), lowercase=False)\n",
    "# Turn these tokens into a numeric matrix\n",
    "\n",
    "count_vectorizer.fit(X_text)\n",
    "numeric_X = count_vectorizer.transform(X_text)\n",
    "\n",
    "LinearSVC  = LinearSVC()\n",
    "MultinomialNB = MultinomialNB()\n",
    "acc_SVC = cross_validation.cross_val_score(LinearSVC, numeric_X, Y, scoring=\"accuracy\", cv=5)\n",
    "acc_NB = cross_validation.cross_val_score(MultinomialNB, numeric_X, Y, scoring=\"accuracy\", cv=5)\n",
    "\n",
    "names.append(\"counter combine-svm\")\n",
    "names.append(\"counter combine-NB\")\n",
    "result.append(round(np.mean(acc_SVC), 3))\n",
    "result.append(round(np.mean(acc_NB), 3))"
   ]
  },
  {
   "cell_type": "code",
   "execution_count": 52,
   "metadata": {},
   "outputs": [],
   "source": [
    "from sklearn.svm import LinearSVC\n",
    "from sklearn.naive_bayes import MultinomialNB\n",
    "\n",
    "count_vectorizer = CountVectorizer()\n",
    "# Turn these tokens into a numeric matrix\n",
    "\n",
    "count_vectorizer.fit(X_text)\n",
    "numeric_X = count_vectorizer.transform(X_text)\n",
    "\n",
    "LinearSVC  = LinearSVC()\n",
    "MultinomialNB = MultinomialNB()\n",
    "acc_SVC = cross_validation.cross_val_score(LinearSVC, numeric_X, Y, scoring=\"accuracy\", cv=5)\n",
    "acc_NB = cross_validation.cross_val_score(MultinomialNB, numeric_X, Y, scoring=\"accuracy\", cv=5)\n",
    "\n",
    "names.append(\"counter default-svm\")\n",
    "names.append(\"counter default-NB\")\n",
    "result.append(round(np.mean(acc_SVC), 3))\n",
    "result.append(round(np.mean(acc_NB), 3))"
   ]
  },
  {
   "cell_type": "code",
   "execution_count": 54,
   "metadata": {},
   "outputs": [
    {
     "name": "stdout",
     "output_type": "stream",
     "text": [
      "[0.81, 0.789, 0.788, 0.766, 0.777, 0.798, 0.767, 0.765]\n",
      "['combine-svm', 'combine-NB', 'default-svm', 'default-NB', 'counter combine-svm', 'counter combine-NB', 'counter default-svm', 'counter default-NB']\n"
     ]
    },
    {
     "data": {
      "image/png": "[encoded data removed]",
      "text/plain": [
       "<Figure size 432x288 with 1 Axes>"
      ]
     },
     "metadata": {},
     "output_type": "display_data"
    }
   ],
   "source": [
    "print(result)\n",
    "print(names)\n",
    "plt.bar(range(len(result)), result,color='rgb',tick_label=names)\n",
    "plt.show()"
   ]
  },
  {
   "cell_type": "markdown",
   "metadata": {},
   "source": [
    "The axis is too crowed..."
   ]
  },
  {
   "cell_type": "code",
   "execution_count": 66,
   "metadata": {},
   "outputs": [
    {
     "data": {
      "text/plain": [
       "<matplotlib.legend.Legend at 0x1a18fc33c8>"
      ]
     },
     "execution_count": 66,
     "metadata": {},
     "output_type": "execute_result"
    },
    {
     "data": {
      "image/png": "[encoded data removed]",
      "text/plain": [
       "<Figure size 432x288 with 1 Axes>"
      ]
     },
     "metadata": {},
     "output_type": "display_data"
    }
   ],
   "source": [
    "# Try different features, models, or both!\n",
    "# What is the highest accuracy you can get?\n",
    "\n",
    "from sklearn.feature_extraction.text import TfidfVectorizer\n",
    "from sklearn.svm import LinearSVC\n",
    "from sklearn.naive_bayes import MultinomialNB\n",
    "import matplotlib.pylab as plt\n",
    "%matplotlib inline\n",
    "\n",
    "accs_SVC = []\n",
    "accs_NB = []\n",
    "for i in range(5):\n",
    "    tfidf_vectorizer = TfidfVectorizer(ngram_range=(1,i), lowercase=False)\n",
    "    # Turn these tokens into a numeric matrix\n",
    "\n",
    "    tfidf_vectorizer.fit(X_text)\n",
    "    numeric_X = tfidf_vectorizer.transform(X_text)\n",
    "\n",
    "    Linear  = LinearSVC()\n",
    "    Multi = MultinomialNB()\n",
    "\n",
    "    acc_SVC = cross_validation.cross_val_score(Linear, numeric_X, Y, scoring=\"accuracy\", cv=5)\n",
    "    acc_NB = cross_validation.cross_val_score(Multi, numeric_X, Y, scoring=\"accuracy\", cv=5)\n",
    "\n",
    "    accs_SVC.append(round(np.mean(acc_SVC), 3))\n",
    "    accs_NB.append(round(np.mean(acc_NB), 3))\n",
    "\n",
    "i=[1,2,3,4,5]\n",
    "plt.plot(i, accs_SVC, label=\"SVC\")\n",
    "plt.plot(i, accs_NB, label=\"NB\")\n",
    "## plt.plot(training_percentages, neutral_accuracies, label=\"Neutral\")\n",
    "plt.legend()"
   ]
  },
  {
   "cell_type": "code",
   "execution_count": 67,
   "metadata": {},
   "outputs": [
    {
     "data": {
      "text/plain": [
       "<matplotlib.legend.Legend at 0x1a227527b8>"
      ]
     },
     "execution_count": 67,
     "metadata": {},
     "output_type": "execute_result"
    },
    {
     "data": {
      "image/png": "[encoded data removed]",
      "text/plain": [
       "<Figure size 432x288 with 1 Axes>"
      ]
     },
     "metadata": {},
     "output_type": "display_data"
    }
   ],
   "source": [
    "# Try different features, models, or both!\n",
    "# What is the highest accuracy you can get?\n",
    "\n",
    "from sklearn.feature_extraction.text import TfidfVectorizer\n",
    "from sklearn.svm import LinearSVC\n",
    "from sklearn.naive_bayes import MultinomialNB\n",
    "import matplotlib.pylab as plt\n",
    "%matplotlib inline\n",
    "\n",
    "accs_SVC = []\n",
    "accs_NB = []\n",
    "for i in range(5):\n",
    "    count_vectorizer = CountVectorizer(ngram_range=(1,i), lowercase=False)\n",
    "    # Turn these tokens into a numeric matrix\n",
    "\n",
    "    count_vectorizer.fit(X_text)\n",
    "    numeric_X = count_vectorizer.transform(X_text)\n",
    "\n",
    "    Linear  = LinearSVC()\n",
    "    Multi = MultinomialNB()\n",
    "\n",
    "    acc_SVC = cross_validation.cross_val_score(Linear, numeric_X, Y, scoring=\"accuracy\", cv=5)\n",
    "    acc_NB = cross_validation.cross_val_score(Multi, numeric_X, Y, scoring=\"accuracy\", cv=5)\n",
    "\n",
    "    accs_SVC.append(round(np.mean(acc_SVC), 3))\n",
    "    accs_NB.append(round(np.mean(acc_NB), 3))\n",
    "\n",
    "i=[1,2,3,4,5]\n",
    "plt.plot(i, accs_SVC, label=\"SVC\")\n",
    "plt.plot(i, accs_NB, label=\"NB\")\n",
    "## plt.plot(training_percentages, neutral_accuracies, label=\"Neutral\")\n",
    "plt.legend()"
   ]
  }
 ],
 "metadata": {
  "kernelspec": {
   "display_name": "Python 3",
   "language": "python",
   "name": "python3"
  },
  "language_info": {
   "codemirror_mode": {
    "name": "ipython",
    "version": 3
   },
   "file_extension": ".py",
   "mimetype": "text/x-python",
   "name": "python",
   "nbconvert_exporter": "python",
   "pygments_lexer": "ipython3",
   "version": "3.6.5"
  }
 },
 "nbformat": 4,
 "nbformat_minor": 2
}
